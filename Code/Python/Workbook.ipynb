{
 "cells": [
  {
   "cell_type": "code",
   "execution_count": 3,
   "metadata": {
    "collapsed": true
   },
   "outputs": [],
   "source": [
    "import pyodbc\n",
    "import pandas.io.sql\n",
    "import pandas as pd"
   ]
  },
  {
   "cell_type": "code",
   "execution_count": 2,
   "metadata": {
    "collapsed": true
   },
   "outputs": [],
   "source": [
    "sqlConnection = pyodbc.connect('DRIVER={SQL Server};server=TARDIS\\\\TARDIS;database=ScholarshipAwardingProcess;trusted_connection=true')"
   ]
  },
  {
   "cell_type": "code",
   "execution_count": 6,
   "metadata": {},
   "outputs": [
    {
     "data": {
      "text/html": [
       "<div>\n",
       "<style>\n",
       "    .dataframe thead tr:only-child th {\n",
       "        text-align: right;\n",
       "    }\n",
       "\n",
       "    .dataframe thead th {\n",
       "        text-align: left;\n",
       "    }\n",
       "\n",
       "    .dataframe tbody tr th {\n",
       "        vertical-align: top;\n",
       "    }\n",
       "</style>\n",
       "<table border=\"1\" class=\"dataframe\">\n",
       "  <thead>\n",
       "    <tr style=\"text-align: right;\">\n",
       "      <th></th>\n",
       "      <th>AlgorithmId</th>\n",
       "      <th>AlgorithmName</th>\n",
       "      <th>AlgorithmDescription</th>\n",
       "    </tr>\n",
       "  </thead>\n",
       "  <tbody>\n",
       "    <tr>\n",
       "      <th>0</th>\n",
       "      <td>1</td>\n",
       "      <td>Merit Only</td>\n",
       "      <td>Only use top applicant for scholarship</td>\n",
       "    </tr>\n",
       "    <tr>\n",
       "      <th>1</th>\n",
       "      <td>2</td>\n",
       "      <td>Merit Only Disqualify After Exceeding Maximum</td>\n",
       "      <td>Use top but top out a single person</td>\n",
       "    </tr>\n",
       "    <tr>\n",
       "      <th>2</th>\n",
       "      <td>3</td>\n",
       "      <td>Merit Only Awarding Can’t Exceed Maximum\\r\\n</td>\n",
       "      <td>Use top but don't let go over certain amount</td>\n",
       "    </tr>\n",
       "    <tr>\n",
       "      <th>3</th>\n",
       "      <td>4</td>\n",
       "      <td>Maximum One Award Per Applicant</td>\n",
       "      <td>Only allow an applicant to have a single schol...</td>\n",
       "    </tr>\n",
       "    <tr>\n",
       "      <th>4</th>\n",
       "      <td>5</td>\n",
       "      <td>Split with all qualified applicants\\r\\n</td>\n",
       "      <td>Split award with all qualified applicants</td>\n",
       "    </tr>\n",
       "    <tr>\n",
       "      <th>5</th>\n",
       "      <td>6</td>\n",
       "      <td>Split with minimum qualified applicants\\r\\n</td>\n",
       "      <td>Split award with applicants up to a certain nu...</td>\n",
       "    </tr>\n",
       "    <tr>\n",
       "      <th>6</th>\n",
       "      <td>7</td>\n",
       "      <td>Split with minimum amount given\\r\\n</td>\n",
       "      <td>Split evenly up to split doesn't bring award a...</td>\n",
       "    </tr>\n",
       "  </tbody>\n",
       "</table>\n",
       "</div>"
      ],
      "text/plain": [
       "   AlgorithmId                                  AlgorithmName  \\\n",
       "0            1                                     Merit Only   \n",
       "1            2  Merit Only Disqualify After Exceeding Maximum   \n",
       "2            3   Merit Only Awarding Can’t Exceed Maximum\\r\\n   \n",
       "3            4                Maximum One Award Per Applicant   \n",
       "4            5        Split with all qualified applicants\\r\\n   \n",
       "5            6    Split with minimum qualified applicants\\r\\n   \n",
       "6            7            Split with minimum amount given\\r\\n   \n",
       "\n",
       "                                AlgorithmDescription  \n",
       "0             Only use top applicant for scholarship  \n",
       "1                Use top but top out a single person  \n",
       "2       Use top but don't let go over certain amount  \n",
       "3  Only allow an applicant to have a single schol...  \n",
       "4          Split award with all qualified applicants  \n",
       "5  Split award with applicants up to a certain nu...  \n",
       "6  Split evenly up to split doesn't bring award a...  "
      ]
     },
     "execution_count": 6,
     "metadata": {},
     "output_type": "execute_result"
    }
   ],
   "source": [
    "sql=\"Select * from Algorithms\"\n",
    "algorithms = pandas.io.sql.read_sql(sql, sqlConnection)\n",
    "algorithms"
   ]
  },
  {
   "cell_type": "code",
   "execution_count": null,
   "metadata": {
    "collapsed": true
   },
   "outputs": [],
   "source": [
    "pandas.io.sql.read_sql(\"\")"
   ]
  }
 ],
 "metadata": {
  "kernelspec": {
   "display_name": "Python 3",
   "language": "python",
   "name": "python3"
  },
  "language_info": {
   "codemirror_mode": {
    "name": "ipython",
    "version": 3
   },
   "file_extension": ".py",
   "mimetype": "text/x-python",
   "name": "python",
   "nbconvert_exporter": "python",
   "pygments_lexer": "ipython3",
   "version": "3.5.3"
  }
 },
 "nbformat": 4,
 "nbformat_minor": 2
}
